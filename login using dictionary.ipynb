{
 "cells": [
  {
   "cell_type": "code",
   "execution_count": 1,
   "metadata": {},
   "outputs": [],
   "source": [
    "db = {}\n",
    "id = 1\n",
    "import cv2\n",
    "import face_recognition as fc\n",
    "import dlib\n",
    "import cmake\n",
    "image = cv2.VideoCapture(0)"
   ]
  },
  {
   "cell_type": "code",
   "execution_count": 14,
   "metadata": {},
   "outputs": [
    {
     "output_type": "stream",
     "name": "stdout",
     "text": [
      "enter:\n",
      "1: to create new user\n",
      "2: to detect user and login\n",
      "User Successfully Logged In--1\n",
      "logged in\n"
     ]
    }
   ],
   "source": [
    "\n",
    "print(\"enter:\")\n",
    "print(\"1: to create new user\")\n",
    "print(\"2: to detect user and login\")\n",
    "choice = input()\n",
    "\n",
    "check,frame = image.read()\n",
    "cv2.imshow(\"User image\",frame)\n",
    "cv2.waitKey(5000)\n",
    "cv2.destroyAllWindows()\n",
    "\n",
    "\n",
    "face_1 = fc.face_locations(frame)\n",
    "if (len(face_1)==0):\n",
    "    print(\"Face not found \\n try again\")\n",
    "else:\n",
    "    face_1 = fc.face_locations(frame)[0]\n",
    "\n",
    "if (len(face_1)!=0):\n",
    "    face_cord_1 = (face_1[3],face_1[0])\n",
    "    face_cord_2 = (face_1[1],face_1[2])\n",
    "\n",
    "    color1 = (0,255,0)\n",
    "    thickness1 = 8\n",
    "    cv2.rectangle(frame,face_cord_1,face_cord_2,color1,thickness1)\n",
    "\n",
    "    cv2.imshow(\"face\",frame)\n",
    "    cv2.waitKey()\n",
    "    cv2.destroyAllWindows()\n",
    "    #frame is holding image\n",
    "    # capture = frame\n",
    "\n",
    "    if (choice==\"1\"):\n",
    "        db[id] = frame\n",
    "        id = id + 1\n",
    "        print(\"signed up\")\n",
    "    #     cv2.imshow(\"success\",success_signup)\n",
    "    #     cv2.waitKey(5000)\n",
    "    #     cv2.destroyAllWindows()\n",
    "        \n",
    "    else:\n",
    "    #     print_image(frame,\"your image\")\n",
    "        cv2.imshow(\"my image\",frame)\n",
    "        cv2.waitKey(5000)\n",
    "        cv2.destroyAllWindows()\n",
    "        fs1 = fc.face_encodings(frame)\n",
    "    #     print(fs1)\n",
    "    #     print(frame)\n",
    "        if (len(fs1)==0):\n",
    "            print(\"No face\")\n",
    "        else:\n",
    "            fs1 = fc.face_encodings(frame)[0]\n",
    "            flag = 0\n",
    "            for item in db:\n",
    "                fs2 = fc.face_encodings(db[item])[0]\n",
    "                res = fc.compare_faces([fs1],fs2)\n",
    "                if (res[0]==True):\n",
    "                    print(\"User Successfully Logged In\",end=\"--\")\n",
    "                    print(item)\n",
    "                    flag = 1\n",
    "                    break\n",
    "            if (flag==0):\n",
    "                print(\"No matches found\")\n",
    "            else:\n",
    "                print(\"logged in\")\n",
    "    #         cv2.imshow(\"success\",success_login)\n",
    "    #         cv2.waitKey(5000)\n",
    "    #         cv2.destroyAllWindows()\n",
    "        "
   ]
  },
  {
   "cell_type": "code",
   "execution_count": 15,
   "metadata": {},
   "outputs": [],
   "source": [
    "image.release()"
   ]
  }
 ],
 "metadata": {
  "kernelspec": {
   "name": "python377jvsc74a57bd068712f03ada65e657a51a5dc1b2b67a0ea2bfb77e0f3fb43dbfce628534d6504",
   "display_name": "Python 3.7.7 64-bit"
  },
  "language_info": {
   "codemirror_mode": {
    "name": "ipython",
    "version": 3
   },
   "file_extension": ".py",
   "mimetype": "text/x-python",
   "name": "python",
   "nbconvert_exporter": "python",
   "pygments_lexer": "ipython3",
   "version": "3.7.7"
  }
 },
 "nbformat": 4,
 "nbformat_minor": 4
}